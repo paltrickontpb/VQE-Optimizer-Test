{
 "cells": [
  {
   "cell_type": "code",
   "execution_count": 1,
   "id": "e110274c-096d-4ef0-b21b-d433110ca2cf",
   "metadata": {},
   "outputs": [],
   "source": [
    "import pennylane as qml\n",
    "from pennylane import numpy as np"
   ]
  },
  {
   "cell_type": "code",
   "execution_count": 2,
   "id": "18e4669c-0c4d-453e-b93d-c363bc0ded8c",
   "metadata": {},
   "outputs": [
    {
     "data": {
      "text/plain": [
       "(['H', 'H'],\n",
       " tensor([ 0.    ,  0.    , -0.6614,  0.    ,  0.    ,  0.6614], requires_grad=True))"
      ]
     },
     "execution_count": 2,
     "metadata": {},
     "output_type": "execute_result"
    }
   ],
   "source": [
    "molecule = \"H2\"\n",
    "symbols = qml.qchem.mol_data(\"H2\")[0]\n",
    "coordinates = np.array([0.0, 0.0, -0.6614, 0.0, 0.0, 0.6614])\n",
    "\n",
    "symbols, coordinates"
   ]
  },
  {
   "cell_type": "code",
   "execution_count": 3,
   "id": "58b89d1e-e602-4398-bd22-2f0e66eca7de",
   "metadata": {},
   "outputs": [
    {
     "name": "stdout",
     "output_type": "stream",
     "text": [
      "Number of qubits =  4\n",
      "The Hamiltonian is    (-0.2427450126094144) [Z2]\n",
      "+ (-0.2427450126094144) [Z3]\n",
      "+ (-0.042072551947439224) [I0]\n",
      "+ (0.1777135822909176) [Z0]\n",
      "+ (0.1777135822909176) [Z1]\n",
      "+ (0.12293330449299361) [Z0 Z2]\n",
      "+ (0.12293330449299361) [Z1 Z3]\n",
      "+ (0.16768338855601356) [Z0 Z3]\n",
      "+ (0.16768338855601356) [Z1 Z2]\n",
      "+ (0.17059759276836803) [Z0 Z1]\n",
      "+ (0.1762766139418181) [Z2 Z3]\n",
      "+ (-0.044750084063019925) [Y0 Y1 X2 X3]\n",
      "+ (-0.044750084063019925) [X0 X1 Y2 Y3]\n",
      "+ (0.044750084063019925) [Y0 X1 X2 Y3]\n",
      "+ (0.044750084063019925) [X0 Y1 Y2 X3]\n"
     ]
    }
   ],
   "source": [
    "H, qubits = qml.qchem.molecular_hamiltonian(symbols, coordinates)\n",
    "print(\"Number of qubits = \", qubits)\n",
    "print(\"The Hamiltonian is \", H)"
   ]
  },
  {
   "cell_type": "code",
   "execution_count": 4,
   "id": "06b81d4c-5c4d-4979-b0cf-173fac0a2f83",
   "metadata": {},
   "outputs": [
    {
     "name": "stdout",
     "output_type": "stream",
     "text": [
      "[1 1 0 0]\n"
     ]
    }
   ],
   "source": [
    "dev = qml.device(\"lightning.qubit\", wires=qubits)\n",
    "\n",
    "electrons = 2\n",
    "hf = qml.qchem.hf_state(electrons, qubits)\n",
    "print(hf)"
   ]
  },
  {
   "cell_type": "code",
   "execution_count": 5,
   "id": "ee4ddb4a-1c45-49d0-8723-b8aee16b25ee",
   "metadata": {},
   "outputs": [],
   "source": [
    "def circuit(param, wires):\n",
    "    qml.BasisState(hf, wires=wires)\n",
    "    qml.DoubleExcitation(param, wires=[0, 1, 2, 3])"
   ]
  },
  {
   "cell_type": "code",
   "execution_count": 6,
   "id": "1459519a-fdf0-43eb-aaee-af911395fb0d",
   "metadata": {},
   "outputs": [],
   "source": [
    "def hartree_to_ev(hartree):\n",
    "  return hartree * 27.2114"
   ]
  },
  {
   "cell_type": "code",
   "execution_count": 7,
   "id": "a924877d-ed29-4959-aca1-ad6e5efff7b6",
   "metadata": {},
   "outputs": [],
   "source": [
    "@qml.qnode(dev, interface=\"autograd\")\n",
    "def cost_fn(param):\n",
    "    circuit(param, wires=range(qubits))\n",
    "    return qml.expval(H)"
   ]
  },
  {
   "cell_type": "code",
   "execution_count": 8,
   "id": "4117048d-0e0e-4ec0-a9dd-19e4096c28b6",
   "metadata": {},
   "outputs": [],
   "source": [
    "opt = qml.AdagradOptimizer(stepsize=0.05)\n",
    "theta = np.array(0.0, requires_grad=True)"
   ]
  },
  {
   "cell_type": "code",
   "execution_count": 9,
   "id": "ef14c707-03cb-4cd5-a64d-755266a7fb8a",
   "metadata": {},
   "outputs": [
    {
     "name": "stdout",
     "output_type": "stream",
     "text": [
      "Step = 0,  Energy = -1.12524428 Ha\n",
      "Step = 1,  Energy = -1.12900346 Ha\n",
      "Step = 2,  Energy = -1.13124547 Ha\n",
      "Step = 3,  Energy = -1.13270350 Ha\n",
      "Step = 4,  Energy = -1.13369515 Ha\n",
      "Step = 5,  Energy = -1.13438772 Ha\n",
      "Step = 6,  Energy = -1.13487967 Ha\n",
      "Step = 7,  Energy = -1.13523308 Ha\n",
      "Step = 8,  Energy = -1.13548894 Ha\n",
      "Step = 9,  Energy = -1.13567519 Ha\n",
      "Step = 10,  Energy = -1.13581130 Ha\n",
      "Step = 11,  Energy = -1.13591105 Ha\n",
      "Step = 12,  Energy = -1.13598429 Ha\n",
      "Step = 13,  Energy = -1.13603815 Ha\n",
      "Step = 14,  Energy = -1.13607780 Ha\n",
      "Step = 15,  Energy = -1.13610701 Ha\n",
      "Step = 16,  Energy = -1.13612854 Ha\n",
      "Step = 17,  Energy = -1.13614443 Ha\n",
      "Step = 18,  Energy = -1.13615614 Ha\n",
      "Step = 19,  Energy = -1.13616479 Ha\n",
      "Step = 20,  Energy = -1.13617117 Ha\n",
      "Step = 21,  Energy = -1.13617588 Ha\n",
      "Step = 22,  Energy = -1.13617936 Ha\n",
      "Step = 23,  Energy = -1.13618192 Ha\n",
      "Step = 24,  Energy = -1.13618382 Ha\n",
      "Step = 25,  Energy = -1.13618522 Ha\n",
      "Step = 26,  Energy = -1.13618625 Ha\n",
      "Step = 27,  Energy = -1.13618701 Ha\n",
      "Step = 28,  Energy = -1.13618757 Ha\n",
      "Step = 29,  Energy = -1.13618799 Ha\n",
      "Step = 30,  Energy = -1.13618830 Ha\n",
      "Step = 31,  Energy = -1.13618852 Ha\n",
      "Step = 32,  Energy = -1.13618869 Ha\n",
      "Step = 33,  Energy = -1.13618881 Ha\n",
      "Step = 34,  Energy = -1.13618891 Ha\n",
      "Step = 35,  Energy = -1.13618897 Ha\n",
      "Step = 36,  Energy = -1.13618902 Ha\n",
      "Step = 37,  Energy = -1.13618906 Ha\n",
      "Step = 38,  Energy = -1.13618909 Ha\n",
      "Step = 39,  Energy = -1.13618911 Ha\n",
      "Step = 40,  Energy = -1.13618912 Ha\n",
      "Step = 41,  Energy = -1.13618913 Ha\n",
      "Step = 42,  Energy = -1.13618914 Ha\n",
      "Step = 43,  Energy = -1.13618915 Ha\n",
      "Step = 44,  Energy = -1.13618915 Ha\n",
      "Step = 45,  Energy = -1.13618915 Ha\n",
      "Step = 46,  Energy = -1.13618916 Ha\n",
      "Step = 47,  Energy = -1.13618916 Ha\n",
      "Step = 48,  Energy = -1.13618916 Ha\n",
      "Step = 49,  Energy = -1.13618916 Ha\n",
      "Step = 50,  Energy = -1.13618916 Ha\n",
      "Step = 51,  Energy = -1.13618916 Ha\n",
      "Step = 52,  Energy = -1.13618916 Ha\n",
      "Step = 53,  Energy = -1.13618916 Ha\n",
      "Step = 54,  Energy = -1.13618916 Ha\n",
      "Step = 55,  Energy = -1.13618916 Ha\n",
      "Step = 56,  Energy = -1.13618916 Ha\n",
      "Step = 57,  Energy = -1.13618916 Ha\n",
      "Step = 58,  Energy = -1.13618916 Ha\n",
      "Step = 59,  Energy = -1.13618916 Ha\n",
      "Step = 60,  Energy = -1.13618916 Ha\n",
      "Step = 61,  Energy = -1.13618916 Ha\n",
      "Step = 62,  Energy = -1.13618916 Ha\n",
      "Step = 63,  Energy = -1.13618916 Ha\n",
      "Step = 64,  Energy = -1.13618916 Ha\n",
      "Step = 65,  Energy = -1.13618916 Ha\n",
      "Step = 66,  Energy = -1.13618916 Ha\n",
      "Step = 67,  Energy = -1.13618916 Ha\n",
      "Step = 68,  Energy = -1.13618916 Ha\n",
      "Step = 69,  Energy = -1.13618916 Ha\n",
      "Step = 70,  Energy = -1.13618916 Ha\n",
      "Step = 71,  Energy = -1.13618916 Ha\n",
      "Step = 72,  Energy = -1.13618916 Ha\n",
      "Step = 73,  Energy = -1.13618916 Ha\n",
      "Step = 74,  Energy = -1.13618916 Ha\n",
      "Step = 75,  Energy = -1.13618916 Ha\n",
      "Step = 76,  Energy = -1.13618916 Ha\n",
      "Step = 77,  Energy = -1.13618916 Ha\n",
      "Step = 78,  Energy = -1.13618916 Ha\n",
      "Step = 79,  Energy = -1.13618916 Ha\n",
      "Step = 80,  Energy = -1.13618916 Ha\n",
      "Step = 81,  Energy = -1.13618916 Ha\n",
      "Step = 82,  Energy = -1.13618916 Ha\n",
      "Step = 83,  Energy = -1.13618916 Ha\n",
      "Step = 84,  Energy = -1.13618916 Ha\n",
      "Step = 85,  Energy = -1.13618916 Ha\n",
      "Step = 86,  Energy = -1.13618916 Ha\n",
      "Step = 87,  Energy = -1.13618916 Ha\n",
      "Step = 88,  Energy = -1.13618916 Ha\n",
      "Step = 89,  Energy = -1.13618916 Ha\n",
      "Step = 90,  Energy = -1.13618916 Ha\n",
      "Step = 91,  Energy = -1.13618916 Ha\n",
      "Step = 92,  Energy = -1.13618916 Ha\n",
      "Step = 93,  Energy = -1.13618916 Ha\n",
      "Step = 94,  Energy = -1.13618916 Ha\n",
      "Step = 95,  Energy = -1.13618916 Ha\n",
      "Step = 96,  Energy = -1.13618916 Ha\n",
      "Step = 97,  Energy = -1.13618916 Ha\n",
      "Step = 98,  Energy = -1.13618916 Ha\n",
      "Step = 99,  Energy = -1.13618916 Ha\n",
      "\n",
      "Final value of the ground-state energy = -1.13618916 Ha or -30.91729778 eV\n",
      "\n",
      "Optimal value of the circuit parameter = 0.2097\n"
     ]
    }
   ],
   "source": [
    "# store the values of the cost function\n",
    "energy = [cost_fn(theta)]\n",
    "\n",
    "# store the values of the circuit parameter\n",
    "angle = [theta]\n",
    "\n",
    "max_iterations = 100\n",
    "conv_tol = 1e-06\n",
    "\n",
    "for n in range(max_iterations):\n",
    "    theta, prev_energy = opt.step_and_cost(cost_fn, theta)\n",
    "\n",
    "    energy.append(cost_fn(theta))\n",
    "    angle.append(theta)\n",
    "\n",
    "    conv = np.abs(energy[-1] - prev_energy)\n",
    "\n",
    "    print(f\"Step = {n},  Energy = {energy[-1]:.8f} Ha\")\n",
    "\n",
    "print(\"\\n\" f\"Final value of the ground-state energy = {energy[-1]:.8f} Ha or {hartree_to_ev(energy[-1]):.8f} eV\")\n",
    "print(\"\\n\" f\"Optimal value of the circuit parameter = {angle[-1]:.4f}\")"
   ]
  },
  {
   "cell_type": "code",
   "execution_count": 10,
   "id": "ccf304aa-4fe2-4323-ba11-b5d7394e5540",
   "metadata": {},
   "outputs": [
    {
     "data": {
      "image/png": "[encoded data removed]",
      "text/plain": [
       "<Figure size 640x480 with 1 Axes>"
      ]
     },
     "metadata": {},
     "output_type": "display_data"
    }
   ],
   "source": [
    "import matplotlib.pyplot as plt\n",
    "\n",
    "# Create a figure object\n",
    "fig = plt.figure()\n",
    "\n",
    "# Create an axes object\n",
    "ax = fig.add_subplot(1, 1, 1)\n",
    "\n",
    "x = np.arange(0, 101)\n",
    "# Plot the data on the axes object\n",
    "ax.plot(x, energy)\n",
    "\n",
    "# Set the title and labels of the graph\n",
    "plt.title(\"Adagrad Optimizer\")\n",
    "plt.ylabel(\"Energy level in Hartree (Ha)\")\n",
    "plt.xlabel(\"Steps\")\n",
    "\n",
    "# Show the graph\n",
    "plt.show()"
   ]
  },
  {
   "cell_type": "code",
   "execution_count": 11,
   "id": "fad5518e-8f2b-44fc-bb73-5789a32d3d4c",
   "metadata": {},
   "outputs": [],
   "source": [
    "np.save('4-Adagrad.npy', energy)"
   ]
  }
 ],
 "metadata": {
  "kernelspec": {
   "display_name": "Python 3 (ipykernel)",
   "language": "python",
   "name": "python3"
  },
  "language_info": {
   "codemirror_mode": {
    "name": "ipython",
    "version": 3
   },
   "file_extension": ".py",
   "mimetype": "text/x-python",
   "name": "python",
   "nbconvert_exporter": "python",
   "pygments_lexer": "ipython3",
   "version": "3.11.6"
  }
 },
 "nbformat": 4,
 "nbformat_minor": 5
}
