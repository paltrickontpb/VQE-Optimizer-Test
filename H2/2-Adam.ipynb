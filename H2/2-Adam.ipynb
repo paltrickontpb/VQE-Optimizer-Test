{
 "cells": [
  {
   "cell_type": "code",
   "execution_count": 1,
   "id": "e110274c-096d-4ef0-b21b-d433110ca2cf",
   "metadata": {},
   "outputs": [],
   "source": [
    "import pennylane as qml\n",
    "from pennylane import numpy as np"
   ]
  },
  {
   "cell_type": "code",
   "execution_count": 2,
   "id": "18e4669c-0c4d-453e-b93d-c363bc0ded8c",
   "metadata": {},
   "outputs": [
    {
     "data": {
      "text/plain": [
       "(['H', 'H'],\n",
       " tensor([ 0.    ,  0.    , -0.6614,  0.    ,  0.    ,  0.6614], requires_grad=True))"
      ]
     },
     "execution_count": 2,
     "metadata": {},
     "output_type": "execute_result"
    }
   ],
   "source": [
    "molecule = \"H2\"\n",
    "symbols = qml.qchem.mol_data(\"H2\")[0]\n",
    "coordinates = np.array([0.0, 0.0, -0.6614, 0.0, 0.0, 0.6614])\n",
    "\n",
    "symbols, coordinates"
   ]
  },
  {
   "cell_type": "code",
   "execution_count": 3,
   "id": "58b89d1e-e602-4398-bd22-2f0e66eca7de",
   "metadata": {},
   "outputs": [
    {
     "name": "stdout",
     "output_type": "stream",
     "text": [
      "Number of qubits =  4\n",
      "The Hamiltonian is    (-0.2427450126094144) [Z2]\n",
      "+ (-0.2427450126094144) [Z3]\n",
      "+ (-0.042072551947439224) [I0]\n",
      "+ (0.1777135822909176) [Z0]\n",
      "+ (0.1777135822909176) [Z1]\n",
      "+ (0.12293330449299361) [Z0 Z2]\n",
      "+ (0.12293330449299361) [Z1 Z3]\n",
      "+ (0.16768338855601356) [Z0 Z3]\n",
      "+ (0.16768338855601356) [Z1 Z2]\n",
      "+ (0.17059759276836803) [Z0 Z1]\n",
      "+ (0.1762766139418181) [Z2 Z3]\n",
      "+ (-0.044750084063019925) [Y0 Y1 X2 X3]\n",
      "+ (-0.044750084063019925) [X0 X1 Y2 Y3]\n",
      "+ (0.044750084063019925) [Y0 X1 X2 Y3]\n",
      "+ (0.044750084063019925) [X0 Y1 Y2 X3]\n"
     ]
    }
   ],
   "source": [
    "H, qubits = qml.qchem.molecular_hamiltonian(symbols, coordinates)\n",
    "print(\"Number of qubits = \", qubits)\n",
    "print(\"The Hamiltonian is \", H)"
   ]
  },
  {
   "cell_type": "code",
   "execution_count": 4,
   "id": "06b81d4c-5c4d-4979-b0cf-173fac0a2f83",
   "metadata": {},
   "outputs": [
    {
     "name": "stdout",
     "output_type": "stream",
     "text": [
      "[1 1 0 0]\n"
     ]
    }
   ],
   "source": [
    "dev = qml.device(\"lightning.qubit\", wires=qubits)\n",
    "\n",
    "electrons = 2\n",
    "hf = qml.qchem.hf_state(electrons, qubits)\n",
    "print(hf)"
   ]
  },
  {
   "cell_type": "code",
   "execution_count": 5,
   "id": "ee4ddb4a-1c45-49d0-8723-b8aee16b25ee",
   "metadata": {},
   "outputs": [],
   "source": [
    "def circuit(param, wires):\n",
    "    qml.BasisState(hf, wires=wires)\n",
    "    qml.DoubleExcitation(param, wires=[0, 1, 2, 3])"
   ]
  },
  {
   "cell_type": "code",
   "execution_count": 6,
   "id": "1459519a-fdf0-43eb-aaee-af911395fb0d",
   "metadata": {},
   "outputs": [],
   "source": [
    "def hartree_to_ev(hartree):\n",
    "  return hartree * 27.2114"
   ]
  },
  {
   "cell_type": "code",
   "execution_count": 7,
   "id": "a924877d-ed29-4959-aca1-ad6e5efff7b6",
   "metadata": {},
   "outputs": [],
   "source": [
    "@qml.qnode(dev, interface=\"autograd\")\n",
    "def cost_fn(param):\n",
    "    circuit(param, wires=range(qubits))\n",
    "    return qml.expval(H)"
   ]
  },
  {
   "cell_type": "code",
   "execution_count": 8,
   "id": "4117048d-0e0e-4ec0-a9dd-19e4096c28b6",
   "metadata": {},
   "outputs": [],
   "source": [
    "opt = qml.AdamOptimizer(stepsize=0.05)\n",
    "theta = np.array(0.0, requires_grad=True)"
   ]
  },
  {
   "cell_type": "code",
   "execution_count": 9,
   "id": "ef14c707-03cb-4cd5-a64d-755266a7fb8a",
   "metadata": {},
   "outputs": [
    {
     "name": "stdout",
     "output_type": "stream",
     "text": [
      "Step = 0,  Energy = -1.12524428 Ha\n",
      "Step = 1,  Energy = -1.13094641 Ha\n",
      "Step = 2,  Energy = -1.13448618 Ha\n",
      "Step = 3,  Energy = -1.13604115 Ha\n",
      "Step = 4,  Energy = -1.13600457 Ha\n",
      "Step = 5,  Energy = -1.13499575 Ha\n",
      "Step = 6,  Energy = -1.13372864 Ha\n",
      "Step = 7,  Energy = -1.13277703 Ha\n",
      "Step = 8,  Energy = -1.13241922 Ha\n",
      "Step = 9,  Energy = -1.13265628 Ha\n",
      "Step = 10,  Energy = -1.13332254 Ha\n",
      "Step = 11,  Energy = -1.13419122 Ha\n",
      "Step = 12,  Energy = -1.13504429 Ha\n",
      "Step = 13,  Energy = -1.13571280 Ha\n",
      "Step = 14,  Energy = -1.13609885 Ha\n",
      "Step = 15,  Energy = -1.13618374 Ha\n",
      "Step = 16,  Energy = -1.13602200 Ha\n",
      "Step = 17,  Energy = -1.13571995 Ha\n",
      "Step = 18,  Energy = -1.13540183 Ha\n",
      "Step = 19,  Energy = -1.13517350 Ha\n",
      "Step = 20,  Energy = -1.13509639 Ha\n",
      "Step = 21,  Energy = -1.13517883 Ha\n",
      "Step = 22,  Energy = -1.13538411 Ha\n",
      "Step = 23,  Energy = -1.13564868 Ha\n",
      "Step = 24,  Energy = -1.13590321 Ha\n",
      "Step = 25,  Energy = -1.13609117 Ha\n",
      "Step = 26,  Energy = -1.13618150 Ha\n",
      "Step = 27,  Energy = -1.13617353 Ha\n",
      "Step = 28,  Energy = -1.13609334 Ha\n",
      "Step = 29,  Energy = -1.13598310 Ha\n",
      "Step = 30,  Energy = -1.13588677 Ha\n",
      "Step = 31,  Energy = -1.13583677 Ha\n",
      "Step = 32,  Energy = -1.13584602 Ha\n",
      "Step = 33,  Energy = -1.13590707 Ha\n",
      "Step = 34,  Energy = -1.13599752 Ha\n",
      "Step = 35,  Energy = -1.13608909 Ha\n",
      "Step = 36,  Energy = -1.13615712 Ha\n",
      "Step = 37,  Energy = -1.13618769 Ha\n",
      "Step = 38,  Energy = -1.13618048 Ha\n",
      "Step = 39,  Energy = -1.13614711 Ha\n",
      "Step = 40,  Energy = -1.13610571 Ha\n",
      "Step = 41,  Energy = -1.13607407 Ha\n",
      "Step = 42,  Energy = -1.13606366 Ha\n",
      "Step = 43,  Energy = -1.13607675 Ha\n",
      "Step = 44,  Energy = -1.13610694 Ha\n",
      "Step = 45,  Energy = -1.13614272 Ha\n",
      "Step = 46,  Energy = -1.13617226 Ha\n",
      "Step = 47,  Energy = -1.13618760 Ha\n",
      "Step = 48,  Energy = -1.13618698 Ha\n",
      "Step = 49,  Energy = -1.13617458 Ha\n",
      "Step = 50,  Energy = -1.13615817 Ha\n",
      "Step = 51,  Energy = -1.13614568 Ha\n",
      "Step = 52,  Energy = -1.13614221 Ha\n",
      "Step = 53,  Energy = -1.13614850 Ha\n",
      "Step = 54,  Energy = -1.13616134 Ha\n",
      "Step = 55,  Energy = -1.13617538 Ha\n",
      "Step = 56,  Energy = -1.13618558 Ha\n",
      "Step = 57,  Energy = -1.13618916 Ha\n",
      "Step = 58,  Energy = -1.13618638 Ha\n",
      "Step = 59,  Energy = -1.13618000 Ha\n",
      "Step = 60,  Energy = -1.13617376 Ha\n",
      "Step = 61,  Energy = -1.13617070 Ha\n",
      "Step = 62,  Energy = -1.13617200 Ha\n",
      "Step = 63,  Energy = -1.13617674 Ha\n",
      "Step = 64,  Energy = -1.13618266 Ha\n",
      "Step = 65,  Energy = -1.13618730 Ha\n",
      "Step = 66,  Energy = -1.13618915 Ha\n",
      "Step = 67,  Energy = -1.13618812 Ha\n",
      "Step = 68,  Energy = -1.13618541 Ha\n",
      "Step = 69,  Energy = -1.13618276 Ha\n",
      "Step = 70,  Energy = -1.13618156 Ha\n",
      "Step = 71,  Energy = -1.13618232 Ha\n",
      "Step = 72,  Energy = -1.13618451 Ha\n",
      "Step = 73,  Energy = -1.13618701 Ha\n",
      "Step = 74,  Energy = -1.13618874 Ha\n",
      "Step = 75,  Energy = -1.13618913 Ha\n",
      "Step = 76,  Energy = -1.13618834 Ha\n",
      "Step = 77,  Energy = -1.13618707 Ha\n",
      "Step = 78,  Energy = -1.13618612 Ha\n",
      "Step = 79,  Energy = -1.13618599 Ha\n",
      "Step = 80,  Energy = -1.13618670 Ha\n",
      "Step = 81,  Energy = -1.13618781 Ha\n",
      "Step = 82,  Energy = -1.13618876 Ha\n",
      "Step = 83,  Energy = -1.13618916 Ha\n",
      "Step = 84,  Energy = -1.13618895 Ha\n",
      "Step = 85,  Energy = -1.13618839 Ha\n",
      "Step = 86,  Energy = -1.13618790 Ha\n",
      "Step = 87,  Energy = -1.13618775 Ha\n",
      "Step = 88,  Energy = -1.13618802 Ha\n",
      "Step = 89,  Energy = -1.13618851 Ha\n",
      "Step = 90,  Energy = -1.13618896 Ha\n",
      "Step = 91,  Energy = -1.13618916 Ha\n",
      "Step = 92,  Energy = -1.13618907 Ha\n",
      "Step = 93,  Energy = -1.13618881 Ha\n",
      "Step = 94,  Energy = -1.13618858 Ha\n",
      "Step = 95,  Energy = -1.13618853 Ha\n",
      "Step = 96,  Energy = -1.13618867 Ha\n",
      "Step = 97,  Energy = -1.13618891 Ha\n",
      "Step = 98,  Energy = -1.13618910 Ha\n",
      "Step = 99,  Energy = -1.13618916 Ha\n",
      "\n",
      "Final value of the ground-state energy = -1.13618916 Ha or -30.91729776 eV\n",
      "\n",
      "Optimal value of the circuit parameter = 0.2098\n"
     ]
    }
   ],
   "source": [
    "# store the values of the cost function\n",
    "energy = [cost_fn(theta)]\n",
    "\n",
    "# store the values of the circuit parameter\n",
    "angle = [theta]\n",
    "\n",
    "max_iterations = 100\n",
    "conv_tol = 1e-06\n",
    "\n",
    "for n in range(max_iterations):\n",
    "    theta, prev_energy = opt.step_and_cost(cost_fn, theta)\n",
    "\n",
    "    energy.append(cost_fn(theta))\n",
    "    angle.append(theta)\n",
    "\n",
    "    conv = np.abs(energy[-1] - prev_energy)\n",
    "\n",
    "    print(f\"Step = {n},  Energy = {energy[-1]:.8f} Ha\")\n",
    "\n",
    "print(\"\\n\" f\"Final value of the ground-state energy = {energy[-1]:.8f} Ha or {hartree_to_ev(energy[-1]):.8f} eV\")\n",
    "print(\"\\n\" f\"Optimal value of the circuit parameter = {angle[-1]:.4f}\")"
   ]
  },
  {
   "cell_type": "code",
   "execution_count": 12,
   "id": "ccf304aa-4fe2-4323-ba11-b5d7394e5540",
   "metadata": {},
   "outputs": [
    {
     "data": {
      "image/png": "[encoded data removed]",
      "text/plain": [
       "<Figure size 640x480 with 1 Axes>"
      ]
     },
     "metadata": {},
     "output_type": "display_data"
    }
   ],
   "source": [
    "import matplotlib.pyplot as plt\n",
    "\n",
    "# Create a figure object\n",
    "fig = plt.figure()\n",
    "\n",
    "# Create an axes object\n",
    "ax = fig.add_subplot(1, 1, 1)\n",
    "\n",
    "x = np.arange(0, 101)\n",
    "# Plot the data on the axes object\n",
    "ax.plot(x, energy)\n",
    "\n",
    "# Set the title and labels of the graph\n",
    "plt.title(\"Adam Optimizer\")\n",
    "plt.ylabel(\"Energy level in Hartree (Ha)\")\n",
    "plt.xlabel(\"Steps\")\n",
    "\n",
    "# Show the graph\n",
    "plt.show()"
   ]
  },
  {
   "cell_type": "code",
   "execution_count": 11,
   "id": "fad5518e-8f2b-44fc-bb73-5789a32d3d4c",
   "metadata": {},
   "outputs": [],
   "source": [
    "np.save('2-Adam.npy', energy)"
   ]
  }
 ],
 "metadata": {
  "kernelspec": {
   "display_name": "Python 3 (ipykernel)",
   "language": "python",
   "name": "python3"
  },
  "language_info": {
   "codemirror_mode": {
    "name": "ipython",
    "version": 3
   },
   "file_extension": ".py",
   "mimetype": "text/x-python",
   "name": "python",
   "nbconvert_exporter": "python",
   "pygments_lexer": "ipython3",
   "version": "3.11.6"
  }
 },
 "nbformat": 4,
 "nbformat_minor": 5
}
